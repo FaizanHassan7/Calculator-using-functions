{
 "cells": [
  {
   "cell_type": "code",
   "execution_count": 1,
   "metadata": {},
   "outputs": [],
   "source": [
    "# Function Definitions\n",
    "\n",
    "def add(a, b):\n",
    "    return a + b\n",
    "\n",
    "def subtract(a, b):\n",
    "    return a - b\n",
    "\n",
    "def multiply(a, b):\n",
    "    return a * b\n",
    "\n",
    "def divide(a, b):\n",
    "    if b == 0:\n",
    "        return \"Error: Division by zero is not allowed.\"\n",
    "    else:\n",
    "        return a / b\n",
    "\n",
    "def modulus(a, b):\n",
    "    return a % b\n",
    "\n",
    "def exponentiate(a, b):\n",
    "    return a ** b"
   ]
  },
  {
   "cell_type": "code",
   "execution_count": 2,
   "metadata": {},
   "outputs": [],
   "source": [
    "def calculator():\n",
    "    print(\"Select an operation:\")\n",
    "    print(\"1. Addition (+)\")\n",
    "    print(\"2. Subtraction (-)\")\n",
    "    print(\"3. Multiplication (*)\")\n",
    "    print(\"4. Division (/)\")\n",
    "    print(\"5. Modulus (%)\")\n",
    "    print(\"6. Exponentiation (^)\")\n",
    "\n",
    "    choice = input(\"Enter choice (1/2/3/4/5/6): \")\n",
    "\n",
    "    if choice in ['1', '2', '3', '4', '5', '6']:\n",
    "        num1 = float(input(\"Enter first number: \"))\n",
    "        num2 = float(input(\"Enter second number: \"))\n",
    "\n",
    "        if choice == '1':\n",
    "            print(f\"Result: {num1} + {num2} = {add(num1, num2)}\")\n",
    "\n",
    "        elif choice == '2':\n",
    "            print(f\"Result: {num1} - {num2} = {subtract(num1, num2)}\")\n",
    "\n",
    "        elif choice == '3':\n",
    "            print(f\"Result: {num1} * {num2} = {multiply(num1, num2)}\")\n",
    "\n",
    "        elif choice == '4':\n",
    "            result = divide(num1, num2)\n",
    "            print(f\"Result: {num1} / {num2} = {result}\")\n",
    "\n",
    "        elif choice == '5':\n",
    "            print(f\"Result: {num1} % {num2} = {modulus(num1, num2)}\")\n",
    "\n",
    "        elif choice == '6':\n",
    "            print(f\"Result: {num1} ^ {num2} = {exponentiate(num1, num2)}\")\n",
    "\n",
    "    else:\n",
    "        print(\"Invalid input. Please select a valid operation.\")\n"
   ]
  },
  {
   "cell_type": "code",
   "execution_count": 3,
   "metadata": {},
   "outputs": [
    {
     "name": "stdout",
     "output_type": "stream",
     "text": [
      "Select an operation:\n",
      "1. Addition (+)\n",
      "2. Subtraction (-)\n",
      "3. Multiplication (*)\n",
      "4. Division (/)\n",
      "5. Modulus (%)\n",
      "6. Exponentiation (^)\n",
      "Result: 12.0 + 22.0 = 34.0\n"
     ]
    }
   ],
   "source": [
    "# Run the Calculator\n",
    "calculator()"
   ]
  }
 ],
 "metadata": {
  "kernelspec": {
   "display_name": "base",
   "language": "python",
   "name": "python3"
  },
  "language_info": {
   "codemirror_mode": {
    "name": "ipython",
    "version": 3
   },
   "file_extension": ".py",
   "mimetype": "text/x-python",
   "name": "python",
   "nbconvert_exporter": "python",
   "pygments_lexer": "ipython3",
   "version": "3.6.5"
  }
 },
 "nbformat": 4,
 "nbformat_minor": 2
}
